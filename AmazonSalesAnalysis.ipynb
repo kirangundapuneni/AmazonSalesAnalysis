{
 "cells": [
  {
   "cell_type": "code",
   "execution_count": 5,
   "id": "f12555f2-0671-4aa4-9329-a93351aa9ba2",
   "metadata": {
    "tags": []
   },
   "outputs": [],
   "source": [
    "from pyspark.sql import SparkSession\n",
    "spark = SparkSession.builder.getOrCreate()"
   ]
  },
  {
   "cell_type": "code",
   "execution_count": 6,
   "id": "44f9f96b-107e-4cb6-a971-e59f9e9b3cec",
   "metadata": {
    "tags": []
   },
   "outputs": [
    {
     "name": "stdout",
     "output_type": "stream",
     "text": [
      "+----------+--------------------+--------------------+----------------+------------+-------------------+------+------------+---------------------+--------------------+--------------------+--------------------+--------------------+--------------------+--------------------+--------------------+\n",
      "|product_id|        product_name|            category|discounted_price|actual_price|discount_percentage|rating|rating_count|        about_product|             user_id|           user_name|           review_id|        review_title|      review_content|            img_link|        product_link|\n",
      "+----------+--------------------+--------------------+----------------+------------+-------------------+------+------------+---------------------+--------------------+--------------------+--------------------+--------------------+--------------------+--------------------+--------------------+\n",
      "|B07JW9H4J1|Wayona Nylon Brai...|Computers&Accesso...|            ₹399|      ₹1,099|                64%|   4.2|      24,269| High Compatibilit...|AG3D6O4STAQKAY2UV...|Manav,Adarsh gupt...|R3HXWT0LRP0NMF,R2...|Satisfied,Chargin...|Looks durable Cha...|https://m.media-a...|https://www.amazo...|\n",
      "|B098NS6PVG|Ambrane Unbreakab...|Computers&Accesso...|            ₹199|        ₹349|                43%|   4.0|      43,994| Compatible with a...|AECPFYFQVRUWC3KGN...|ArdKn,Nirbhay kum...|RGIQEG07R9HS2,R1S...|A Good Braided Ca...|I ordered this ca...|https://m.media-a...|https://www.amazo...|\n",
      "|B096MSW6CT|Sounce Fast Phone...|Computers&Accesso...|            ₹199|      ₹1,899|                90%|   3.9|       7,928|【 Fast Charger& D...|AGU3BBQ2V2DDAMOAK...|Kunal,Himanshu,vi...|R3J3EQQ9TZI5ZJ,R3...|Good speed for ea...|Not quite durable...|https://m.media-a...|https://www.amazo...|\n",
      "|B08HDJ86NZ|boAt Deuce USB 30...|Computers&Accesso...|            ₹329|        ₹699|                53%|   4.2|      94,363| The boAt Deuce US...|AEWAZDZZJLQUYVOVG...|Omkar dhale,JD,HE...|R3EEUZKKK9J36I,R3...|Good product,Good...|Good product,long...|https://m.media-a...|https://www.amazo...|\n",
      "|B08CF3B7N1|Portronics Konnec...|Computers&Accesso...|            ₹154|        ₹399|                61%|   4.2|      16,905| [CHARGE & SYNC FU...|AE3Q6KSUK5P75D5HF...|rahuls6099,Swasat...|R1BP4L2HH9TFUP,R1...|As good as origin...|Bought this inste...|https://m.media-a...|https://www.amazo...|\n",
      "|B08Y1TFSP6|pTron Solero TB30...|Computers&Accesso...|            ₹149|      ₹1,000|                85%|   3.9|      24,871| Fast Charging & D...|AEQ2YMXSZWEOHK2EH...|Jayesh,Rajesh k.,...|R7S8ANNSDPR40,R3C...|It's pretty good,...|It's a good produ...|https://m.media-a...|https://www.amazo...|\n",
      "|B08WRWPM22|boAt Micro USB 55...|Computers&Accesso...|         ₹176.63|        ₹499|                65%|   4.1|      15,188| It Ensures High S...|AG7C6DAADCTRQJG2B...|Vivek kumar,Amazo...|R8E73K2KWJRDS,RSD...|Long durable.,goo...|Build quality is ...|https://m.media-a...|https://www.amazo...|\n",
      "|B08DDRGWTJ|MI Usb Type-C Cab...|Computers&Accesso...|            ₹229|        ₹299|                23%|   4.3|      30,411| 1m long Type-C US...|AHW6E5LQ2BDYOIVLA...|Pavan A H,Jayesh ...|R2X090D1YHACKR,R3...|Worth for money -...|Worth for money -...|https://m.media-a...|https://www.amazo...|\n",
      "|B008IFXQFU|TP-Link USB WiFi ...|Computers&Accesso...|            ₹499|        ₹999|                50%|   4.2|    1,79,691| USB WiFi Adapter ...|AGV3IEFANZCKECFGU...|Azhar JuMan,Aniru...|R1LW6NWSVTVZ2H,R3...|Works on linux fo...|I use this to con...|https://m.media-a...|https://www.amazo...|\n",
      "|B082LZGK39|Ambrane Unbreakab...|Computers&Accesso...|            ₹199|        ₹299|                33%|   4.0|      43,994| Universal Compati...|AECPFYFQVRUWC3KGN...|ArdKn,Nirbhay kum...|RGIQEG07R9HS2,R1S...|A Good Braided Ca...|I ordered this ca...|https://m.media-a...|https://www.amazo...|\n",
      "|B08CF3D7QR|Portronics Konnec...|Computers&Accesso...|            ₹154|        ₹339|                55%|   4.3|      13,391| [CHARGE & SYNC FU...|AGYLPKPZHVYKKZHOT...|Tanya,Anu,Akshay,...|R11MQS7WD9C3I0,R2...|Good for fast cha...|The cable is effi...|https://m.media-a...|https://www.amazo...|\n",
      "|B0789LZTCJ|boAt Rugged v3 Ex...|Computers&Accesso...|            ₹299|        ₹799|                63%|   4.2|      94,363| The boAt rugged c...|AEWAZDZZJLQUYVOVG...|Omkar dhale,JD,HE...|R3EEUZKKK9J36I,R3...|Good product,Good...|Good product,long...|https://m.media-a...|https://www.amazo...|\n",
      "|B07KSMBL2H|AmazonBasics Flex...|Electronics|HomeT...|            ₹219|        ₹700|                69%|   4.4|    4,26,973| Flexible, lightwe...|AEYJ5I6JZZPOJB6MG...|Rishav Gossain,Sh...|R1FKOKZ3HHKJBZ,R2...|It's quite good a...|I am using it for...|https://m.media-a...|https://www.amazo...|\n",
      "|B085DTN6R2|Portronics Konnec...|Computers&Accesso...|            ₹350|        ₹899|                61%|   4.2|       2,262| [20W PD FAST CHAR...|AGUAYQHARAKR2VZTR...|Priya,Mansi,Plaba...|R1QETDIPRCX4S0,RA...|Works,Nice Produc...|Definitely isn’t ...|https://m.media-a...|https://www.amazo...|\n",
      "|B09KLVMZ3B|Portronics Konnec...|Computers&Accesso...|            ₹159|        ₹399|                60%|   4.1|       4,768| [CHARGE & SYNC FU...|AF2XXVO7JUBUVAOBT...|Deepaak Singh,siv...|R20XIOU25HEX80,R2...|Great but,Worked ...|Loosing charging ...|https://m.media-a...|https://www.amazo...|\n",
      "|B083342NKJ|MI Braided USB Ty...|Computers&Accesso...|            ₹349|        ₹399|                13%|   4.4|      18,757| 1M Long Cable. Us...|AGSGSRTEZBQY64WO2...|Birendra ku Dash,...|R2JPQNKCOE10UK,RQ...|Good product,usin...|I like it 👍👍,Be...|https://m.media-a...|https://www.amazo...|\n",
      "|B0B6F7LX4C|MI 80 cm (32 inch...|Electronics|HomeT...|         ₹13,999|     ₹24,999|                44%|   4.2|      32,840| Note : The brands...|AHEVOQADJSSRX7DS3...|Manoj maddheshiya...|R13UTIA6KOF6QV,R2...|It is the best tv...|Pros- xiomi 5a is...|https://m.media-a...|https://www.amazo...|\n",
      "|B082LSVT4B|Ambrane Unbreakab...|Computers&Accesso...|            ₹249|        ₹399|                38%|   4.0|      43,994| Compatible with a...|AECPFYFQVRUWC3KGN...|ArdKn,Nirbhay kum...|RGIQEG07R9HS2,R1S...|A Good Braided Ca...|I ordered this ca...|https://m.media-a...|https://www.amazo...|\n",
      "|B08WRBG3XW|boAt Type C A325 ...|Computers&Accesso...|            ₹199|        ₹499|                60%|   4.1|      13,045| Type C A 325 Cabl...|AFB5KJR4Q5FICAHBO...|Rohan Narkar,JAGW...|R2BP8Y5OJXKJLF,R2...|Good for charging...|Check for offera ...|https://m.media-a...|https://www.amazo...|\n",
      "|B08DPLCM6T|LG 80 cm (32 inch...|Electronics|HomeT...|         ₹13,490|     ₹21,990|                39%|   4.3|      11,976| Resolution: HD Re...|AHBNKB74LGTYUOKPA...|NIRMAL.N,Manoj ku...|R2PNR69G0BQG2F,R3...|Sound quality,Ver...|LG was always Goo...|https://m.media-a...|https://www.amazo...|\n",
      "+----------+--------------------+--------------------+----------------+------------+-------------------+------+------------+---------------------+--------------------+--------------------+--------------------+--------------------+--------------------+--------------------+--------------------+\n",
      "only showing top 20 rows\n",
      "\n"
     ]
    }
   ],
   "source": [
    "df = spark.read.format(\"csv\").option(\"header\", \"true\").load(\"amazon.csv\")\n",
    " \n",
    "df.createOrReplaceTempView(\"amazon\")\n",
    " \n",
    "df.show()\n"
   ]
  },
  {
   "cell_type": "code",
   "execution_count": 9,
   "id": "00b996e5-6101-4a47-ae22-c853aa8e864d",
   "metadata": {},
   "outputs": [
    {
     "name": "stdout",
     "output_type": "stream",
     "text": [
      "+----------+--------------------+------------+----------+\n",
      "|product_id|        product_name|review_count|avg_rating|\n",
      "+----------+--------------------+------------+----------+\n",
      "|B09YLXYP7Y|Ambrane 60W / 3A ...|           3|       4.0|\n",
      "|B09C6HXFC1|Duracell USB Ligh...|           3|       4.5|\n",
      "|B085DTN6R2|Portronics Konnec...|           3|       4.2|\n",
      "|B082T6V3DT|AmazonBasics New ...|           3|       4.3|\n",
      "|B08Y1TFSP6|pTron Solero TB30...|           3|       3.9|\n",
      "|B08WRWPM22|boAt Micro USB 55...|           3|       4.1|\n",
      "|B08HDJ86NZ|boAt Deuce USB 30...|           3|       4.2|\n",
      "|B096MSW6CT|Sounce Fast Phone...|           3|       3.9|\n",
      "|B08CF3D7QR|Portronics Konnec...|           3|       4.3|\n",
      "|B08R69VDHT|Pinnaclz Original...|           3|       4.0|\n",
      "+----------+--------------------+------------+----------+\n",
      "\n"
     ]
    }
   ],
   "source": [
    "# 1) The top 10 products with the highest number of reviews and their corresponding average ratings.\n",
    "\n",
    "from pyspark.sql.functions import avg, count\n",
    "\n",
    "top_products_by_reviews = (\n",
    "    df.groupBy(\"product_id\", \"product_name\")\n",
    "    .agg(count(\"review_id\").alias(\"review_count\"), avg(\"rating\").alias(\"avg_rating\"))\n",
    "    .orderBy(\"review_count\", ascending=False)\n",
    "    .limit(10)\n",
    ")\n",
    "\n",
    "top_products_by_reviews.show()"
   ]
  },
  {
   "cell_type": "code",
   "execution_count": 10,
   "id": "653ca535-975d-4cb2-8411-86ef35f7901f",
   "metadata": {
    "tags": []
   },
   "outputs": [
    {
     "name": "stdout",
     "output_type": "stream",
     "text": [
      "+--------------------+-------------+\n",
      "|            category|total_reviews|\n",
      "+--------------------+-------------+\n",
      "|Computers&Accesso...|      24503.0|\n",
      "|Electronics|HomeT...|      12675.0|\n",
      "|Home&Kitchen|Heat...|       5208.0|\n",
      "|Home&Kitchen|Kitc...|       3802.0|\n",
      "|Home&Kitchen|Kitc...|       3471.0|\n",
      "|Electronics|HomeT...|       3213.0|\n",
      "|Home&Kitchen|Kitc...|       2969.0|\n",
      "|Electronics|Weara...|       2478.0|\n",
      "|Home&Kitchen|Kitc...|       2144.0|\n",
      "|Home&Kitchen|Heat...|       2066.0|\n",
      "|Home&Kitchen|Heat...|       1725.0|\n",
      "|Electronics|Gener...|       1633.0|\n",
      "|Electronics|HomeT...|       1567.0|\n",
      "|Home&Kitchen|Kitc...|       1489.0|\n",
      "|Home&Kitchen|Kitc...|       1382.0|\n",
      "|Computers&Accesso...|       1361.0|\n",
      "|Home&Kitchen|Kitc...|       1332.0|\n",
      "|Electronics|Mobil...|       1310.0|\n",
      "|Computers&Accesso...|       1292.0|\n",
      "|Electronics|Mobil...|       1253.0|\n",
      "+--------------------+-------------+\n",
      "only showing top 20 rows\n",
      "\n"
     ]
    }
   ],
   "source": [
    "# 2) Find the total number of reviews for each category of products and order the result in descending order.\n",
    "\n",
    "from pyspark.sql.functions import sum\n",
    "\n",
    "total_reviews_by_category = (\n",
    "    df.groupBy(\"category\")\n",
    "    .agg(sum(\"rating_count\").alias(\"total_reviews\"))\n",
    "    .orderBy(\"total_reviews\", ascending=False)\n",
    ")\n",
    "\n",
    "total_reviews_by_category.show()\n"
   ]
  },
  {
   "cell_type": "code",
   "execution_count": 11,
   "id": "5e7e93eb-8087-4935-801a-a1e6a64c9d73",
   "metadata": {
    "tags": []
   },
   "outputs": [
    {
     "name": "stdout",
     "output_type": "stream",
     "text": [
      "+--------------------+--------------------+-----------------+\n",
      "|             user_id|           user_name|avg_review_length|\n",
      "+--------------------+--------------------+-----------------+\n",
      "|AF7IXQKBUL6NEIQG4...|Neeraj Vishwakarm...|          18547.0|\n",
      "|AHB43CZ4RHLJ5S6CB...|Sameer Patil,Tech...|          13253.0|\n",
      "|AHJJY3GFDJFTDTX55...|Atulya Sinha,Suja...|          10220.0|\n",
      "|AH3XZBFRJ3T2YATYJ...|Mukesh Maurya,Gya...|           9443.0|\n",
      "|AEH4535UEBGBK4WIF...|Arnav,Bharjil Dek...|           8871.0|\n",
      "+--------------------+--------------------+-----------------+\n",
      "\n"
     ]
    }
   ],
   "source": [
    "# 3) Find the top 5 users who have written the longest reviews on average.\n",
    "\n",
    "from pyspark.sql.functions import length\n",
    "\n",
    "top_reviewers_by_length = (\n",
    "    df.groupBy(\"user_id\", \"user_name\")\n",
    "    .agg(avg(length(\"review_content\")).alias(\"avg_review_length\"))\n",
    "    .orderBy(\"avg_review_length\", ascending=False)\n",
    "    .limit(5)\n",
    ")\n",
    "\n",
    "top_reviewers_by_length.show()\n"
   ]
  },
  {
   "cell_type": "code",
   "execution_count": 12,
   "id": "5914b485-b604-4081-99b6-b9d3224754de",
   "metadata": {
    "tags": []
   },
   "outputs": [
    {
     "name": "stdout",
     "output_type": "stream",
     "text": [
      "+----------+--------------------+----------+\n",
      "|product_id|        product_name|avg_rating|\n",
      "+----------+--------------------+----------+\n",
      "|B00P93X2H6|Classmate Pulse S...|       4.1|\n",
      "|B078JF6X9B|Havells Instanio ...|       4.2|\n",
      "|B09HN7LD5L|PROLEGEND® PL-T00...|       4.0|\n",
      "|B09F6D21BY|7SEVEN Compatible...|       3.0|\n",
      "|B078V8R9BS|Butterfly EKN 1.5...|       4.2|\n",
      "|B09P22HXH6|Lenovo 300 FHD We...|       4.1|\n",
      "|B00TDD0YM4|Philips GC026/30 ...|       4.4|\n",
      "|B00E3DVQFS|Duracell Recharge...|       4.4|\n",
      "|B0B5CGTBKV|boAt Wave Call Sm...|       3.8|\n",
      "|B07TXCY3YK|Butterfly Hero Mi...|       3.9|\n",
      "+----------+--------------------+----------+\n",
      "\n"
     ]
    }
   ],
   "source": [
    "# 4) Find the products with the highest actual price and their corresponding average ratings.\n",
    "\n",
    "top_priced_products = (\n",
    "    df.orderBy(\"actual_price\", ascending=False)\n",
    "    .groupBy(\"product_id\", \"product_name\")\n",
    "    .agg(avg(\"rating\").alias(\"avg_rating\"))\n",
    "    .limit(10)\n",
    ")\n",
    "\n",
    "top_priced_products.show()\n"
   ]
  },
  {
   "cell_type": "code",
   "execution_count": 13,
   "id": "a6e86e4a-3d14-4877-a6e4-0c4bc1e53c6a",
   "metadata": {
    "tags": []
   },
   "outputs": [
    {
     "name": "stdout",
     "output_type": "stream",
     "text": [
      "+--------------------+----------+-------------+\n",
      "|            category|avg_rating|total_reviews|\n",
      "+--------------------+----------+-------------+\n",
      "|Computers&Accesso...|       4.6|         null|\n",
      "|Home&Kitchen|Craf...|       4.5|         null|\n",
      "|Computers&Accesso...|       4.5|         null|\n",
      "|Electronics|Power...|       4.5|         null|\n",
      "|Electronics|HomeA...|       4.5|        224.0|\n",
      "+--------------------+----------+-------------+\n",
      "\n"
     ]
    }
   ],
   "source": [
    "# 5) Find the categories with the highest average ratings and their corresponding number of reviews.\n",
    "\n",
    "top_rated_categories = (\n",
    "    df.groupBy(\"category\")\n",
    "    .agg(avg(\"rating\").alias(\"avg_rating\"), sum(\"rating_count\").alias(\"total_reviews\"))\n",
    "    .orderBy(\"avg_rating\", ascending=False)\n",
    "    .limit(5)\n",
    ")\n",
    "\n",
    "top_rated_categories.show()\n",
    "\n"
   ]
  },
  {
   "cell_type": "code",
   "execution_count": 15,
   "id": "9af56d3a-50b7-40a1-b72f-e20c787f84ab",
   "metadata": {
    "tags": []
   },
   "outputs": [
    {
     "name": "stdout",
     "output_type": "stream",
     "text": [
      "+----------+--------------------+--------------------+----------------+------------+\n",
      "|product_id|        product_name|            category|discounted_price|actual_price|\n",
      "+----------+--------------------+--------------------+----------------+------------+\n",
      "|B08SKZ2RMG|Demokrazy New Nov...|Home&Kitchen|Kitc...|            ₹475|        ₹999|\n",
      "|B08CGW4GYR|Milk Frother, Imm...|Home&Kitchen|Kitc...|            ₹375|        ₹999|\n",
      "|B08YK7BBD2|Nirdambhay Mini B...|Home&Kitchen|Kitc...|            ₹429|        ₹999|\n",
      "|B0B8ZM9RVV|Zuvexa Egg Boiler...|Home&Kitchen|Kitc...|            ₹419|        ₹999|\n",
      "|B08K36NZSV|KONVIO NEER 10 In...|Home&Kitchen|Kitc...|            ₹499|        ₹999|\n",
      "|B09ZVJXN5L|KNYUC MART Mini E...|Home&Kitchen|Heat...|            ₹778|        ₹999|\n",
      "|B0BL3R4RGS|VAPJA® Portable M...|Home&Kitchen|Kitc...|            ₹649|        ₹999|\n",
      "|B08RDWBYCQ|T TOPLINE 180 W E...|Home&Kitchen|Kitc...|            ₹549|        ₹999|\n",
      "|B09NNZ1GF7|Lint Remover For ...|Home&Kitchen|Kitc...|            ₹445|        ₹999|\n",
      "|B0B8CB7MHW|KNOWZA Electric H...|Home&Kitchen|Kitc...|            ₹426|        ₹999|\n",
      "+----------+--------------------+--------------------+----------------+------------+\n",
      "\n"
     ]
    }
   ],
   "source": [
    "# 6) Find the top 10 most expensive products with their discounted prices and actual prices.\n",
    "\n",
    "most_expensive_products = (\n",
    "    df.orderBy(\"actual_price\", ascending=False)\n",
    "    .select(\"product_id\", \"product_name\", \"category\", \"discounted_price\", \"actual_price\")\n",
    "    .limit(10)\n",
    ")\n",
    "\n",
    "most_expensive_products.show()"
   ]
  },
  {
   "cell_type": "code",
   "execution_count": 17,
   "id": "ffa4f903-3c52-4b68-a347-76dcff2cf582",
   "metadata": {
    "tags": []
   },
   "outputs": [
    {
     "name": "stdout",
     "output_type": "stream",
     "text": [
      "+--------------------+------------------+\n",
      "|            category| avg_review_length|\n",
      "+--------------------+------------------+\n",
      "|Home&Kitchen|Kitc...|            7766.0|\n",
      "|Computers&Accesso...|            5471.0|\n",
      "|Home&Kitchen|Heat...|            3837.0|\n",
      "|Computers&Accesso...|            3586.0|\n",
      "|Electronics|Headp...|            3490.0|\n",
      "|Electronics|HomeT...|            3365.0|\n",
      "|Computers&Accesso...|            3130.0|\n",
      "|Home&Kitchen|Kitc...|            3110.0|\n",
      "|Home&Kitchen|Heat...|           2981.75|\n",
      "|MusicalInstrument...|            2977.0|\n",
      "|Computers&Accesso...|            2955.0|\n",
      "|Home&Kitchen|Kitc...|2866.1666666666665|\n",
      "|Home&Kitchen|Kitc...|           2729.25|\n",
      "|Electronics|Mobil...|           2659.25|\n",
      "|Home&Kitchen|Kitc...|            2580.0|\n",
      "|Computers&Accesso...|            2521.0|\n",
      "|Electronics|HomeA...|            2328.0|\n",
      "|Electronics|Mobil...|2283.0833333333335|\n",
      "|Computers&Accesso...|2234.3333333333335|\n",
      "|Home&Kitchen|Kitc...|            2203.0|\n",
      "+--------------------+------------------+\n",
      "only showing top 20 rows\n",
      "\n"
     ]
    }
   ],
   "source": [
    "# 7) Find the average length of reviews for each category of products and order the result in descending order.\n",
    "\n",
    "avg_review_length_by_category = (\n",
    "    df.groupBy(\"category\")\n",
    "    .agg(avg(length(\"review_content\")).alias(\"avg_review_length\"))\n",
    "    .orderBy(\"avg_review_length\", ascending=False)\n",
    ")\n",
    "\n",
    "avg_review_length_by_category.show()\n"
   ]
  },
  {
   "cell_type": "code",
   "execution_count": 19,
   "id": "4129ea81-14d8-4d64-b8cd-735d925722e8",
   "metadata": {
    "tags": []
   },
   "outputs": [
    {
     "name": "stdout",
     "output_type": "stream",
     "text": [
      "+----------+--------------------+--------------------+--------------------+--------------------+-------------------+\n",
      "|product_id|        product_name|            category|    discounted_price|        actual_price|discount_percentage|\n",
      "+----------+--------------------+--------------------+--------------------+--------------------+-------------------+\n",
      "|B0BLV1GNLN|\"WZATCO Pixel | P...|                  PC|                PS4\"|Electronics|HomeT...|             ₹6,490|\n",
      "|B0B2RBP83P|\"Lenovo IdeaPad 3...|         81X800LGIN\"|Computers&Accesso...|             ₹37,247|            ₹59,890|\n",
      "|B09939XJX8|\"TVARA LCD Writin...| Erasable Reusabl...| Educational and ...|Computers&Accesso...|               ₹354|\n",
      "|B08JMC1988|\"boAt Stone 180 5...| IPX7 & TWS Featu...|Electronics|HomeA...|                ₹999|             ₹2,490|\n",
      "|B09YV463SW|\"Fire-Boltt Ninja...|       Sp02 Tracking| Over 100 Cloud b...|Electronics|Weara...|             ₹1,499|\n",
      "+----------+--------------------+--------------------+--------------------+--------------------+-------------------+\n",
      "\n"
     ]
    }
   ],
   "source": [
    "# 8) Find the top 5 products with the highest percentage of discount and their corresponding actual and discounted prices.\n",
    "\n",
    "top_discounted_products = (\n",
    "    df.filter(\"discount_percentage IS NOT NULL\")\n",
    "    .orderBy(\"discount_percentage\", ascending=False)\n",
    "    .select(\"product_id\", \"product_name\", \"category\", \"discounted_price\", \"actual_price\", \"discount_percentage\")\n",
    "    .limit(5)\n",
    ")\n",
    "\n",
    "top_discounted_products.show()\n"
   ]
  },
  {
   "cell_type": "code",
   "execution_count": 25,
   "id": "abf408ea-b241-4251-88fa-c9e2ee0a67e9",
   "metadata": {
    "tags": []
   },
   "outputs": [
    {
     "name": "stdout",
     "output_type": "stream",
     "text": [
      "+--------------------+--------------------+-----------------+-------------+\n",
      "|             user_id|           user_name|distinct_products|total_reviews|\n",
      "+--------------------+--------------------+-----------------+-------------+\n",
      "|AGAELRYPMTG5SADZP...|Satheesh Kadiam,P...|                8|            8|\n",
      "|AHIKJUDTVJ4T6DV6I...|$@|\\|TO$|-|,Sethu...|                8|           10|\n",
      "|AG3D6O4STAQKAY2UV...|Manav,Adarsh gupt...|                6|            8|\n",
      "|AHWRZWPCTG6ICA7WT...|siddharth patnaik...|                6|            6|\n",
      "|AFSMISGEYDYIP3Z42...|Ayush,ROHIT A.,Ke...|                5|            5|\n",
      "|AHEVOQADJSSRX7DS3...|Manoj maddheshiya...|                5|            5|\n",
      "|                 4.2|              13,937|                5|            5|\n",
      "|AG44HJB2AMIVHAGQZ...|Prashant,Sumesh S...|                5|            6|\n",
      "|AEJLOEHISUISLO2Z4...|Meghnad,Partha De...|                4|            4|\n",
      "|AEWAZDZZJLQUYVOVG...|Omkar dhale,JD,HE...|                4|            7|\n",
      "|AF477BP57JM7Z4JD4...|Placeholder,श्रीP...|                4|            5|\n",
      "|AF7B5AJJZP2WKRD74...|Roshan Renji Cher...|                4|            4|\n",
      "|AE27UOZENYSWCQVQR...|virender malhotra...|                4|            4|\n",
      "|AHDIDVECFGA6OQRNU...|Binu,Sabjan,Ramka...|                4|            4|\n",
      "|AHL2CPZ63TFC3VB3R...|sameer Dubey,vire...|                4|            4|\n",
      "|AHPYDFW6Y3FIQGD2R...|AV,Mathan kumar,A...|                4|            5|\n",
      "|AELBDTDLN6LH4TEVD...|Thukkaram,Vishnu,...|                3|            3|\n",
      "|AGOWF5LLDDKUJTPYF...|Vishnu VP,P S Aga...|                3|            3|\n",
      "|AGD5KTBDTS26I2SB3...|Kapil kumar,Rajen...|                3|            3|\n",
      "|AFIJZPIDNQJFJUO46...|Mahantesh,Gaurav ...|                3|            3|\n",
      "+--------------------+--------------------+-----------------+-------------+\n",
      "only showing top 20 rows\n",
      "\n"
     ]
    }
   ],
   "source": [
    "# 9) Find the top 10 users who have written reviews for the highest number of products and their corresponding number of reviews.\n",
    "\n",
    "from pyspark.sql.functions import countDistinct\n",
    "\n",
    "top_reviewers_by_products = (\n",
    "    df.groupBy(\"user_id\", \"user_name\")\n",
    "    .agg(countDistinct(\"product_id\").alias(\"distinct_products\"), count(\"review_id\").alias(\"total_reviews\"))\n",
    "    .orderBy(\"distinct_products\", ascending=False)\n",
    ")\n",
    "\n",
    "top_reviewers_by_products.show()"
   ]
  },
  {
   "cell_type": "code",
   "execution_count": 26,
   "id": "514a50ff-7588-4f8a-9e1e-5fb68076cc9e",
   "metadata": {
    "tags": []
   },
   "outputs": [
    {
     "name": "stdout",
     "output_type": "stream",
     "text": [
      "+----------+--------------------+--------------------+--------------------+\n",
      "|product_id|        product_name|            category| discount_percentage|\n",
      "+----------+--------------------+--------------------+--------------------+\n",
      "|B0BLV1GNLN|\"WZATCO Pixel | P...|                  PC|              ₹6,490|\n",
      "|B0B2RBP83P|\"Lenovo IdeaPad 3...|         81X800LGIN\"|             ₹59,890|\n",
      "|B09939XJX8|\"TVARA LCD Writin...| Erasable Reusabl...|                ₹354|\n",
      "|B08JMC1988|\"boAt Stone 180 5...| IPX7 & TWS Featu...|              ₹2,490|\n",
      "|B07Z53L5QL|\"ProElite Faux Le...|              Black\"|              ₹1,499|\n",
      "|B09YV463SW|\"Fire-Boltt Ninja...|       Sp02 Tracking|              ₹1,499|\n",
      "|B09YV42QHZ|\"Fire-Boltt Ninja...|       Sp02 Tracking|              ₹1,499|\n",
      "|B00N1U7JXM|\"3M Post-it Stick...|           reminders|OfficeProducts|Of...|\n",
      "|B0BNV7JM5Y|\"boAt Newly Launc...| Smart Calling wi...|Menu Personalization|\n",
      "|B0B3RS9DNF|Fire-Boltt Phoeni...|   120+ Sports Modes|Electronics|Weara...|\n",
      "+----------+--------------------+--------------------+--------------------+\n",
      "\n"
     ]
    }
   ],
   "source": [
    "# 10) This query analyzes the products with the highest discount percentage based on the dataset provided.\n",
    "\n",
    "from pyspark.sql.functions import desc\n",
    "\n",
    "top_discounted_products = (\n",
    "    df.select(\"product_id\", \"product_name\", \"category\", \"discount_percentage\")\n",
    "    .orderBy(desc(\"discount_percentage\"))\n",
    "    .limit(10)\n",
    ")\n",
    "\n",
    "top_discounted_products.show()"
   ]
  },
  {
   "cell_type": "code",
   "execution_count": null,
   "id": "de2290e0-3434-4ae5-ba78-b92a60a7a75c",
   "metadata": {},
   "outputs": [],
   "source": []
  }
 ],
 "metadata": {
  "kernelspec": {
   "display_name": "Python 3 (ipykernel)",
   "language": "python",
   "name": "python3"
  },
  "language_info": {
   "codemirror_mode": {
    "name": "ipython",
    "version": 3
   },
   "file_extension": ".py",
   "mimetype": "text/x-python",
   "name": "python",
   "nbconvert_exporter": "python",
   "pygments_lexer": "ipython3",
   "version": "3.11.1"
  }
 },
 "nbformat": 4,
 "nbformat_minor": 5
}
